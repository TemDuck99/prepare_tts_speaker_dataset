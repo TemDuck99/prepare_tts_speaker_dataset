{
 "cells": [
  {
   "cell_type": "code",
   "execution_count": 2,
   "id": "bb7cd3be",
   "metadata": {},
   "outputs": [],
   "source": [
    "import os\n",
    "from os import path\n",
    "\n",
    "import pandas as pd\n",
    "from utils.find_speakers_dirs import get_speakers\n",
    "from utils.prepare_speaker_df import create_df, save_result"
   ]
  },
  {
   "cell_type": "code",
   "execution_count": 3,
   "id": "1312ee3b",
   "metadata": {},
   "outputs": [],
   "source": [
    "speakers_paths = \"/media/orik236/4cbc9054-41d9-48bc-9b98-389cb22dd2fb/TTS_audios/ISSAI_KazakhTTS\""
   ]
  },
  {
   "cell_type": "code",
   "execution_count": 4,
   "id": "787d71f9",
   "metadata": {},
   "outputs": [
    {
     "name": "stdout",
     "output_type": "stream",
     "text": [
      "level: 1 Content: ['M1_Iseke', 'F1_Raya', 'M1'] basename: ISSAI_KazakhTTS\n",
      "level: 2 Content: ['sub3', 'sub4', 'sub1', 'sub2'] basename: M1\n",
      "level: 3 Content: ['Transcripts', 'Audios'] basename: sub2\n",
      "level: 3 Content: ['Transcripts', 'Audios'] basename: sub1\n",
      "level: 3 Content: ['Transcripts', 'Audios'] basename: sub3\n",
      "level: 2 Content: ['Transcripts', 'Audios', 'F1_Raya_metadata.txt'] basename: F1_Raya\n",
      "level: 2 Content: ['Transcripts', 'Audios', 'M1_Iseke_metadata.txt'] basename: M1_Iseke\n"
     ]
    }
   ],
   "source": [
    "speakers =  get_speakers(speakers_dirs_path=speakers_paths)"
   ]
  },
  {
   "cell_type": "code",
   "execution_count": 5,
   "id": "9298a43a",
   "metadata": {},
   "outputs": [
    {
     "data": {
      "text/plain": [
       "[('/media/orik236/4cbc9054-41d9-48bc-9b98-389cb22dd2fb/TTS_audios/ISSAI_KazakhTTS/M1/sub2',\n",
       "  'M1_sub2'),\n",
       " ('/media/orik236/4cbc9054-41d9-48bc-9b98-389cb22dd2fb/TTS_audios/ISSAI_KazakhTTS/M1/sub1',\n",
       "  'M1_sub1'),\n",
       " ('/media/orik236/4cbc9054-41d9-48bc-9b98-389cb22dd2fb/TTS_audios/ISSAI_KazakhTTS/M1/sub3',\n",
       "  'M1_sub3'),\n",
       " ('/media/orik236/4cbc9054-41d9-48bc-9b98-389cb22dd2fb/TTS_audios/ISSAI_KazakhTTS/F1_Raya',\n",
       "  'F1_Raya'),\n",
       " ('/media/orik236/4cbc9054-41d9-48bc-9b98-389cb22dd2fb/TTS_audios/ISSAI_KazakhTTS/M1_Iseke',\n",
       "  'M1_Iseke')]"
      ]
     },
     "execution_count": 5,
     "metadata": {},
     "output_type": "execute_result"
    }
   ],
   "source": [
    "speakers"
   ]
  },
  {
   "cell_type": "code",
   "execution_count": 6,
   "id": "fb8d8f11",
   "metadata": {},
   "outputs": [],
   "source": [
    "dirs = (\"Audios\", \"Transcripts\")"
   ]
  },
  {
   "cell_type": "code",
   "execution_count": 7,
   "id": "8d41dc3b",
   "metadata": {},
   "outputs": [],
   "source": [
    "s_path, basename = speakers[0]"
   ]
  },
  {
   "cell_type": "code",
   "execution_count": 8,
   "id": "560b56c4",
   "metadata": {},
   "outputs": [],
   "source": [
    "audio_path, text_path = path.join(s_path, dirs[0]), path.join(s_path, dirs[1])\n",
    "df = create_df(audios_path=audio_path, texts_path=text_path)"
   ]
  },
  {
   "cell_type": "code",
   "execution_count": 9,
   "id": "e15fbaad",
   "metadata": {},
   "outputs": [],
   "source": [
    "df[\"audio_filepath\"] = df[\"audio_filepath\"].apply(lambda x: path.join(*x.split(\"/\")[-4:]))"
   ]
  },
  {
   "cell_type": "code",
   "execution_count": 10,
   "id": "6dc1019c",
   "metadata": {},
   "outputs": [
    {
     "data": {
      "text/plain": [
       "('/media/orik236/4cbc9054-41d9-48bc-9b98-389cb22dd2fb/TTS_audios/ISSAI_KazakhTTS/M1/sub2/Audios',\n",
       " '/media/orik236/4cbc9054-41d9-48bc-9b98-389cb22dd2fb/TTS_audios/ISSAI_KazakhTTS/M1/sub2/Transcripts')"
      ]
     },
     "execution_count": 10,
     "metadata": {},
     "output_type": "execute_result"
    }
   ],
   "source": [
    "audio_path, text_path"
   ]
  },
  {
   "cell_type": "code",
   "execution_count": 12,
   "id": "f68b4dae",
   "metadata": {},
   "outputs": [],
   "source": [
    "df[\"speaker\"] = basename"
   ]
  },
  {
   "cell_type": "code",
   "execution_count": null,
   "id": "a5ff2d33",
   "metadata": {},
   "outputs": [],
   "source": []
  }
 ],
 "metadata": {
  "kernelspec": {
   "display_name": "Python 3 (ipykernel)",
   "language": "python",
   "name": "python3"
  },
  "language_info": {
   "codemirror_mode": {
    "name": "ipython",
    "version": 3
   },
   "file_extension": ".py",
   "mimetype": "text/x-python",
   "name": "python",
   "nbconvert_exporter": "python",
   "pygments_lexer": "ipython3",
   "version": "3.8.0"
  }
 },
 "nbformat": 4,
 "nbformat_minor": 5
}
